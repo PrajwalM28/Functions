{
 "cells": [
  {
   "cell_type": "markdown",
   "id": "1482ab3f-a3ae-4508-b96c-d651b4b2b184",
   "metadata": {},
   "source": [
    "# Q1."
   ]
  },
  {
   "cell_type": "code",
   "execution_count": 4,
   "id": "43836be6-1119-4d19-a865-83f57eb8b8ba",
   "metadata": {},
   "outputs": [],
   "source": [
    "def number():\n",
    "    for i in range(1,26):\n",
    "        if i%2 != 0:\n",
    "            print(i)"
   ]
  },
  {
   "cell_type": "code",
   "execution_count": 5,
   "id": "0fb426bd-b7e4-40d9-98de-1b1e8bdf3866",
   "metadata": {},
   "outputs": [
    {
     "name": "stdout",
     "output_type": "stream",
     "text": [
      "1\n",
      "3\n",
      "5\n",
      "7\n",
      "9\n",
      "11\n",
      "13\n",
      "15\n",
      "17\n",
      "19\n",
      "21\n",
      "23\n",
      "25\n",
      "None\n"
     ]
    }
   ],
   "source": [
    "result = number()\n",
    "print(result)"
   ]
  },
  {
   "cell_type": "markdown",
   "id": "be6b275c-8a46-4245-9700-6a65bbba9591",
   "metadata": {},
   "source": [
    "# Q2."
   ]
  },
  {
   "cell_type": "markdown",
   "id": "05f3a88f-f226-49f0-b2f1-28c6e712f0b5",
   "metadata": {},
   "source": [
    "- args and kwargs used in function definitions to allow a variable number of arguments."
   ]
  },
  {
   "cell_type": "code",
   "execution_count": 7,
   "id": "ba29246a-fad9-4e48-a5b4-2dd3c15cb49c",
   "metadata": {},
   "outputs": [
    {
     "name": "stdout",
     "output_type": "stream",
     "text": [
      "1\n",
      "2\n",
      "3\n",
      "a\n",
      "b\n",
      "c\n",
      "d\n"
     ]
    }
   ],
   "source": [
    "def print_args(*args):\n",
    "    for arg in args:\n",
    "        print(arg)\n",
    "\n",
    "print_args(1, 2, 3)\n",
    "print_args('a', 'b', 'c', 'd')"
   ]
  },
  {
   "cell_type": "code",
   "execution_count": 8,
   "id": "55f3a574-09df-4e0c-b043-dfbd8dbfde53",
   "metadata": {},
   "outputs": [
    {
     "name": "stdout",
     "output_type": "stream",
     "text": [
      "name: John\n",
      "age: 25\n",
      "city: New York\n"
     ]
    }
   ],
   "source": [
    "def print_kwargs(**kwargs):\n",
    "    for key, value in kwargs.items():\n",
    "        print(f\"{key}: {value}\")\n",
    "\n",
    "print_kwargs(name='John', age=25, city='New York')"
   ]
  },
  {
   "cell_type": "markdown",
   "id": "71283f6d-b396-49b2-8830-f24dd7f3465d",
   "metadata": {},
   "source": [
    "# Q3."
   ]
  },
  {
   "cell_type": "markdown",
   "id": "02226d90-3e35-4db9-b696-38f67e664775",
   "metadata": {},
   "source": [
    "An iterator in Python is an object that implements the iterator protocol, which consists of the __iter__ method for initialization and the __next__ method for iteration.\n",
    "\n"
   ]
  },
  {
   "cell_type": "code",
   "execution_count": 9,
   "id": "cc3897d4-f898-4b17-8dd4-6045e7b766ae",
   "metadata": {},
   "outputs": [
    {
     "name": "stdout",
     "output_type": "stream",
     "text": [
      "2\n",
      "4\n",
      "6\n",
      "8\n",
      "10\n"
     ]
    }
   ],
   "source": [
    "my_list = [2, 4, 6, 8, 10, 12, 14, 16, 18, 20]\n",
    "my_iter = iter(my_list)\n",
    "\n",
    "for _ in range(5):\n",
    "    print(next(my_iter))"
   ]
  },
  {
   "cell_type": "markdown",
   "id": "1c5d18de-64e3-4c79-b001-a6163e5735ee",
   "metadata": {},
   "source": [
    "# Q4."
   ]
  },
  {
   "cell_type": "markdown",
   "id": "1f67138d-22bc-4c38-bf75-ef73e8739a89",
   "metadata": {},
   "source": [
    "A generator function is a special type of function that allows you to iterate over a potentially large sequence of data without creating the entire sequence in memory at once. The yield keyword is used to produce a sequence of values.\n",
    "\n"
   ]
  },
  {
   "cell_type": "code",
   "execution_count": 10,
   "id": "9425b140-9633-4afa-ba7d-ca8b70f36d94",
   "metadata": {},
   "outputs": [
    {
     "name": "stdout",
     "output_type": "stream",
     "text": [
      "0\n",
      "1\n",
      "4\n",
      "9\n",
      "16\n"
     ]
    }
   ],
   "source": [
    "def generate_squares(n):\n",
    "    for i in range(n):\n",
    "        yield i**2\n",
    "\n",
    "for square in generate_squares(5):\n",
    "    print(square)"
   ]
  },
  {
   "cell_type": "markdown",
   "id": "c118439a-ca20-4019-a996-a2af96f94245",
   "metadata": {},
   "source": [
    "# Q5."
   ]
  },
  {
   "cell_type": "code",
   "execution_count": 11,
   "id": "5da2b7f3-05bc-4c7d-9acf-a3a83628c0d2",
   "metadata": {},
   "outputs": [
    {
     "name": "stdout",
     "output_type": "stream",
     "text": [
      "2\n",
      "3\n",
      "5\n",
      "7\n",
      "11\n",
      "13\n",
      "17\n",
      "19\n",
      "23\n",
      "29\n",
      "31\n",
      "37\n",
      "41\n",
      "43\n",
      "47\n",
      "53\n",
      "59\n",
      "61\n",
      "67\n",
      "71\n"
     ]
    }
   ],
   "source": [
    "def generate_primes():\n",
    "    primes = []\n",
    "    num = 2\n",
    "    while True:\n",
    "        for p in primes:\n",
    "            if p * p > num:\n",
    "                yield num\n",
    "                primes.append(num)\n",
    "                break\n",
    "            if num % p == 0:\n",
    "                break\n",
    "        else:\n",
    "            yield num\n",
    "            primes.append(num)\n",
    "        num += 1\n",
    "\n",
    "primes_generator = generate_primes()\n",
    "for _ in range(20):\n",
    "    print(next(primes_generator))"
   ]
  }
 ],
 "metadata": {
  "kernelspec": {
   "display_name": "Python 3 (ipykernel)",
   "language": "python",
   "name": "python3"
  },
  "language_info": {
   "codemirror_mode": {
    "name": "ipython",
    "version": 3
   },
   "file_extension": ".py",
   "mimetype": "text/x-python",
   "name": "python",
   "nbconvert_exporter": "python",
   "pygments_lexer": "ipython3",
   "version": "3.10.8"
  }
 },
 "nbformat": 4,
 "nbformat_minor": 5
}
